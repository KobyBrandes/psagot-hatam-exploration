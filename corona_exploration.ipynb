{
  "nbformat": 4,
  "nbformat_minor": 0,
  "metadata": {
    "colab": {
      "name": "corona_exploration.ipynb",
      "provenance": [],
      "collapsed_sections": [
        "9B07lFcJ5ETY",
        "qp0dTSFz5HJa",
        "0JVfqWEDAk_Z",
        "USMxVh3h_6uH",
        "5noZ0-8SAUDd",
        "dKyYkI3HGgyN",
        "_rFkg93UfrYQ",
        "GNgMQtFzeJHh"
      ]
    },
    "kernelspec": {
      "name": "python3",
      "display_name": "Python 3"
    }
  },
  "cells": [
    {
      "cell_type": "code",
      "metadata": {
        "id": "0pir5Msw4ULF",
        "colab_type": "code",
        "colab": {
          "base_uri": "https://localhost:8080/",
          "height": 72
        },
        "outputId": "a7fd1015-57b0-465d-bc1f-60f6184a22c1"
      },
      "source": [
        "import numpy as np\n",
        "import pandas as pd\n",
        "\n",
        "import matplotlib.pyplot as plt\n",
        "import seaborn as sns\n",
        "\n",
        "sns.set()"
      ],
      "execution_count": 1,
      "outputs": [
        {
          "output_type": "stream",
          "text": [
            "/usr/local/lib/python3.6/dist-packages/statsmodels/tools/_testing.py:19: FutureWarning: pandas.util.testing is deprecated. Use the functions in the public API at pandas.testing instead.\n",
            "  import pandas.util.testing as tm\n"
          ],
          "name": "stderr"
        }
      ]
    },
    {
      "cell_type": "code",
      "metadata": {
        "id": "3B2Xze2b4cKA",
        "colab_type": "code",
        "colab": {}
      },
      "source": [
        "%matplotlib notebook"
      ],
      "execution_count": 2,
      "outputs": []
    },
    {
      "cell_type": "markdown",
      "metadata": {
        "id": "9B07lFcJ5ETY",
        "colab_type": "text"
      },
      "source": [
        "# Reading Data"
      ]
    },
    {
      "cell_type": "code",
      "metadata": {
        "id": "Whuu0gYT4ob8",
        "colab_type": "code",
        "colab": {}
      },
      "source": [
        "df = pd.read_csv(\"./corona.csv\")"
      ],
      "execution_count": 3,
      "outputs": []
    },
    {
      "cell_type": "markdown",
      "metadata": {
        "id": "qp0dTSFz5HJa",
        "colab_type": "text"
      },
      "source": [
        "# Exploration"
      ]
    },
    {
      "cell_type": "code",
      "metadata": {
        "id": "Wqe3TURg5AcY",
        "colab_type": "code",
        "colab": {
          "base_uri": "https://localhost:8080/",
          "height": 312
        },
        "outputId": "10c884ec-f06b-45e7-f452-448ab9d9afa9"
      },
      "source": [
        "df.info()"
      ],
      "execution_count": 4,
      "outputs": [
        {
          "output_type": "stream",
          "text": [
            "<class 'pandas.core.frame.DataFrame'>\n",
            "RangeIndex: 41580 entries, 0 to 41579\n",
            "Data columns (total 10 columns):\n",
            " #   Column                      Non-Null Count  Dtype  \n",
            "---  ------                      --------------  -----  \n",
            " 0   age                         41505 non-null  float64\n",
            " 1   background_diseases         18049 non-null  object \n",
            " 2   background_diseases_binary  41580 non-null  int64  \n",
            " 3   confirmed_date              41580 non-null  object \n",
            " 4   date_onset_symptoms         41440 non-null  object \n",
            " 5   deceased_date               4948 non-null   object \n",
            " 6   severity_illness            5498 non-null   object \n",
            " 7   sex                         41580 non-null  object \n",
            " 8   smoking                     41310 non-null  float64\n",
            " 9   treatment                   41580 non-null  object \n",
            "dtypes: float64(2), int64(1), object(7)\n",
            "memory usage: 3.2+ MB\n"
          ],
          "name": "stdout"
        }
      ]
    },
    {
      "cell_type": "code",
      "metadata": {
        "id": "7Y0SUtrK47IQ",
        "colab_type": "code",
        "colab": {
          "base_uri": "https://localhost:8080/",
          "height": 222
        },
        "outputId": "ccd6bb1a-0d86-463f-dd9a-34cd0ecdb5a8"
      },
      "source": [
        "df.head()"
      ],
      "execution_count": 5,
      "outputs": [
        {
          "output_type": "execute_result",
          "data": {
            "text/html": [
              "<div>\n",
              "<style scoped>\n",
              "    .dataframe tbody tr th:only-of-type {\n",
              "        vertical-align: middle;\n",
              "    }\n",
              "\n",
              "    .dataframe tbody tr th {\n",
              "        vertical-align: top;\n",
              "    }\n",
              "\n",
              "    .dataframe thead th {\n",
              "        text-align: right;\n",
              "    }\n",
              "</style>\n",
              "<table border=\"1\" class=\"dataframe\">\n",
              "  <thead>\n",
              "    <tr style=\"text-align: right;\">\n",
              "      <th></th>\n",
              "      <th>age</th>\n",
              "      <th>background_diseases</th>\n",
              "      <th>background_diseases_binary</th>\n",
              "      <th>confirmed_date</th>\n",
              "      <th>date_onset_symptoms</th>\n",
              "      <th>deceased_date</th>\n",
              "      <th>severity_illness</th>\n",
              "      <th>sex</th>\n",
              "      <th>smoking</th>\n",
              "      <th>treatment</th>\n",
              "    </tr>\n",
              "  </thead>\n",
              "  <tbody>\n",
              "    <tr>\n",
              "      <th>0</th>\n",
              "      <td>62.0</td>\n",
              "      <td>diabetes,</td>\n",
              "      <td>1</td>\n",
              "      <td>02/06/2020</td>\n",
              "      <td>20/05/2020</td>\n",
              "      <td>NaN</td>\n",
              "      <td>NaN</td>\n",
              "      <td>man</td>\n",
              "      <td>0.0</td>\n",
              "      <td>clinic</td>\n",
              "    </tr>\n",
              "    <tr>\n",
              "      <th>1</th>\n",
              "      <td>73.0</td>\n",
              "      <td>NaN</td>\n",
              "      <td>0</td>\n",
              "      <td>07/06/2020</td>\n",
              "      <td>31/05/2020</td>\n",
              "      <td>10/06/2020</td>\n",
              "      <td>deceased</td>\n",
              "      <td>male</td>\n",
              "      <td>0.0</td>\n",
              "      <td>hospitalized</td>\n",
              "    </tr>\n",
              "    <tr>\n",
              "      <th>2</th>\n",
              "      <td>47.0</td>\n",
              "      <td>NaN</td>\n",
              "      <td>0</td>\n",
              "      <td>15/04/2020</td>\n",
              "      <td>13/04/2020</td>\n",
              "      <td>NaN</td>\n",
              "      <td>NaN</td>\n",
              "      <td>unknown</td>\n",
              "      <td>0.0</td>\n",
              "      <td>clinic</td>\n",
              "    </tr>\n",
              "    <tr>\n",
              "      <th>3</th>\n",
              "      <td>39.0</td>\n",
              "      <td>NaN</td>\n",
              "      <td>0</td>\n",
              "      <td>21/04/2020</td>\n",
              "      <td>17/04/2020</td>\n",
              "      <td>NaN</td>\n",
              "      <td>NaN</td>\n",
              "      <td>male</td>\n",
              "      <td>0.0</td>\n",
              "      <td>clinic</td>\n",
              "    </tr>\n",
              "    <tr>\n",
              "      <th>4</th>\n",
              "      <td>47.0</td>\n",
              "      <td>diabetes,</td>\n",
              "      <td>1</td>\n",
              "      <td>29/04/2020</td>\n",
              "      <td>22/04/2020</td>\n",
              "      <td>12/05/2020</td>\n",
              "      <td>deceased</td>\n",
              "      <td>female</td>\n",
              "      <td>0.0</td>\n",
              "      <td>clinic</td>\n",
              "    </tr>\n",
              "  </tbody>\n",
              "</table>\n",
              "</div>"
            ],
            "text/plain": [
              "    age background_diseases  ...  smoking     treatment\n",
              "0  62.0           diabetes,  ...      0.0        clinic\n",
              "1  73.0                 NaN  ...      0.0  hospitalized\n",
              "2  47.0                 NaN  ...      0.0        clinic\n",
              "3  39.0                 NaN  ...      0.0        clinic\n",
              "4  47.0           diabetes,  ...      0.0        clinic\n",
              "\n",
              "[5 rows x 10 columns]"
            ]
          },
          "metadata": {
            "tags": []
          },
          "execution_count": 5
        }
      ]
    },
    {
      "cell_type": "code",
      "metadata": {
        "id": "JgIX8sQDDAJl",
        "colab_type": "code",
        "colab": {}
      },
      "source": [
        "df['confirmed_date'] = pd.to_datetime(df['confirmed_date'], dayfirst=True)\n",
        "df['date_onset_symptoms'] = pd.to_datetime(df['date_onset_symptoms'], dayfirst=True)\n",
        "df['deceased_date'] = pd.to_datetime(df['deceased_date'], dayfirst=True)\n"
      ],
      "execution_count": 6,
      "outputs": []
    },
    {
      "cell_type": "markdown",
      "metadata": {
        "id": "0JVfqWEDAk_Z",
        "colab_type": "text"
      },
      "source": [
        "## Age"
      ]
    },
    {
      "cell_type": "code",
      "metadata": {
        "id": "ncCQeCHg5dwT",
        "colab_type": "code",
        "colab": {
          "base_uri": "https://localhost:8080/",
          "height": 173
        },
        "outputId": "a513c553-523e-471c-bcd4-27ae884185b3"
      },
      "source": [
        "df['age'].describe()"
      ],
      "execution_count": 7,
      "outputs": [
        {
          "output_type": "execute_result",
          "data": {
            "text/plain": [
              "count    41505.000000\n",
              "mean        46.100373\n",
              "std         16.382668\n",
              "min          0.000000\n",
              "25%         34.000000\n",
              "50%         45.000000\n",
              "75%         57.000000\n",
              "max        119.000000\n",
              "Name: age, dtype: float64"
            ]
          },
          "metadata": {
            "tags": []
          },
          "execution_count": 7
        }
      ]
    },
    {
      "cell_type": "code",
      "metadata": {
        "id": "479i7idr6X_j",
        "colab_type": "code",
        "colab": {
          "base_uri": "https://localhost:8080/",
          "height": 407
        },
        "outputId": "d3beb290-ceed-4828-fc5d-cfb828e2e24c"
      },
      "source": [
        "plt.figure()\n",
        "plt.hist(df['age'].dropna(), bins=20)"
      ],
      "execution_count": 8,
      "outputs": [
        {
          "output_type": "execute_result",
          "data": {
            "text/plain": [
              "(array([2.720e+02, 2.250e+02, 4.390e+02, 1.369e+03, 4.058e+03, 5.336e+03,\n",
              "        5.695e+03, 5.678e+03, 5.434e+03, 4.487e+03, 3.305e+03, 2.358e+03,\n",
              "        1.464e+03, 8.380e+02, 3.500e+02, 7.000e+01, 2.000e+01, 2.000e+00,\n",
              "        0.000e+00, 1.050e+02]),\n",
              " array([  0.  ,   5.95,  11.9 ,  17.85,  23.8 ,  29.75,  35.7 ,  41.65,\n",
              "         47.6 ,  53.55,  59.5 ,  65.45,  71.4 ,  77.35,  83.3 ,  89.25,\n",
              "         95.2 , 101.15, 107.1 , 113.05, 119.  ]),\n",
              " <a list of 20 Patch objects>)"
            ]
          },
          "metadata": {
            "tags": []
          },
          "execution_count": 8
        },
        {
          "output_type": "display_data",
          "data": {
            "image/png": "[encoded data removed]",
            "text/plain": [
              "<Figure size 432x288 with 1 Axes>"
            ]
          },
          "metadata": {
            "tags": [],
            "needs_background": "light"
          }
        }
      ]
    },
    {
      "cell_type": "code",
      "metadata": {
        "id": "_92RF4ETV8YA",
        "colab_type": "code",
        "colab": {
          "base_uri": "https://localhost:8080/",
          "height": 35
        },
        "outputId": "2477b488-ae3e-40d5-af73-2a600e9207fa"
      },
      "source": [
        "df['age'].isna().sum()"
      ],
      "execution_count": 9,
      "outputs": [
        {
          "output_type": "execute_result",
          "data": {
            "text/plain": [
              "75"
            ]
          },
          "metadata": {
            "tags": []
          },
          "execution_count": 9
        }
      ]
    },
    {
      "cell_type": "markdown",
      "metadata": {
        "id": "rfvsNYRhW4Sr",
        "colab_type": "text"
      },
      "source": [
        "The most simple way to fill the age missing values is by filling with the median.\n",
        "\n",
        "(remember that those with the age 119 have no real age)"
      ]
    },
    {
      "cell_type": "code",
      "metadata": {
        "id": "KderoTh-XQX3",
        "colab_type": "code",
        "colab": {}
      },
      "source": [
        "df['age'] = df['age'].fillna(df['age'].median())"
      ],
      "execution_count": 10,
      "outputs": []
    },
    {
      "cell_type": "markdown",
      "metadata": {
        "id": "8Qo38RTdYqUL",
        "colab_type": "text"
      },
      "source": [
        "A more complicated way to fill this missing values is using the fact that we know that background diseases and age are highly correlated.\n",
        "So, we will fill the ages by the median of those with the same background diseases.\n",
        "(We should remember that a group with some background diseases may contain few people)"
      ]
    },
    {
      "cell_type": "code",
      "metadata": {
        "id": "XygwPqkMWAkH",
        "colab_type": "code",
        "colab": {
          "base_uri": "https://localhost:8080/",
          "height": 110
        },
        "outputId": "33847916-5da2-49a9-c6e6-48ff4fce9f58"
      },
      "source": [
        "df[['background_diseases_binary', 'age']].corr()"
      ],
      "execution_count": 11,
      "outputs": [
        {
          "output_type": "execute_result",
          "data": {
            "text/html": [
              "<div>\n",
              "<style scoped>\n",
              "    .dataframe tbody tr th:only-of-type {\n",
              "        vertical-align: middle;\n",
              "    }\n",
              "\n",
              "    .dataframe tbody tr th {\n",
              "        vertical-align: top;\n",
              "    }\n",
              "\n",
              "    .dataframe thead th {\n",
              "        text-align: right;\n",
              "    }\n",
              "</style>\n",
              "<table border=\"1\" class=\"dataframe\">\n",
              "  <thead>\n",
              "    <tr style=\"text-align: right;\">\n",
              "      <th></th>\n",
              "      <th>background_diseases_binary</th>\n",
              "      <th>age</th>\n",
              "    </tr>\n",
              "  </thead>\n",
              "  <tbody>\n",
              "    <tr>\n",
              "      <th>background_diseases_binary</th>\n",
              "      <td>1.000000</td>\n",
              "      <td>0.334469</td>\n",
              "    </tr>\n",
              "    <tr>\n",
              "      <th>age</th>\n",
              "      <td>0.334469</td>\n",
              "      <td>1.000000</td>\n",
              "    </tr>\n",
              "  </tbody>\n",
              "</table>\n",
              "</div>"
            ],
            "text/plain": [
              "                            background_diseases_binary       age\n",
              "background_diseases_binary                    1.000000  0.334469\n",
              "age                                           0.334469  1.000000"
            ]
          },
          "metadata": {
            "tags": []
          },
          "execution_count": 11
        }
      ]
    },
    {
      "cell_type": "markdown",
      "metadata": {
        "id": "2aGQv614Dwsr",
        "colab_type": "text"
      },
      "source": [
        "### Binning the age variable."
      ]
    },
    {
      "cell_type": "code",
      "metadata": {
        "id": "o7A-_HPxDvDX",
        "colab_type": "code",
        "colab": {}
      },
      "source": [
        "age_bins = [-1, 9, 19, 29, 39, 49, 59, 69, 79, 89, 120]\n",
        "age_labels=['0-9', '10-19', '20-29', '30-39', '40-49','50-59', '60-69', '70-79', '80-89', \"90+\"]\n",
        "\n",
        "df['age_group'] = pd.cut(df['age'], bins=age_bins, labels=age_labels)"
      ],
      "execution_count": 12,
      "outputs": []
    },
    {
      "cell_type": "markdown",
      "metadata": {
        "id": "USMxVh3h_6uH",
        "colab_type": "text"
      },
      "source": [
        "## Gender "
      ]
    },
    {
      "cell_type": "code",
      "metadata": {
        "id": "vSVE6hqh-DgP",
        "colab_type": "code",
        "colab": {
          "base_uri": "https://localhost:8080/",
          "height": 225
        },
        "outputId": "b20ebcd8-0450-4942-f45b-bfd8f6e511f7"
      },
      "source": [
        "df['sex'].value_counts()"
      ],
      "execution_count": 13,
      "outputs": [
        {
          "output_type": "execute_result",
          "data": {
            "text/plain": [
              "female     20684\n",
              "male       16515\n",
              "woman       1143\n",
              "man          961\n",
              "m            739\n",
              "F            476\n",
              "fmale        462\n",
              "f            213\n",
              "unknown      167\n",
              "boy          114\n",
              "girl         106\n",
              "Name: sex, dtype: int64"
            ]
          },
          "metadata": {
            "tags": []
          },
          "execution_count": 13
        }
      ]
    },
    {
      "cell_type": "code",
      "metadata": {
        "id": "NweJWKsB-2GF",
        "colab_type": "code",
        "colab": {}
      },
      "source": [
        "gender_dict = {\n",
        "    \"woman\" : \"female\",\n",
        "    \"man\" : \"male\",\n",
        "    \"m\" : \"male\",\n",
        "    \"F\" : \"female\",\n",
        "    \"f\" : \"female\",\n",
        "    \"fmale\" : \"female\",\n",
        "    \"boy\" : \"male\",\n",
        "    \"girl\" : \"female\"\n",
        "}\n",
        "\n",
        "df['sex'].replace(gender_dict, inplace=True)"
      ],
      "execution_count": 14,
      "outputs": []
    },
    {
      "cell_type": "code",
      "metadata": {
        "id": "FKiJjxv9_TAN",
        "colab_type": "code",
        "colab": {
          "base_uri": "https://localhost:8080/",
          "height": 87
        },
        "outputId": "b0033c35-f51f-4f10-f149-c1955a715537"
      },
      "source": [
        "df['sex'].value_counts()"
      ],
      "execution_count": 15,
      "outputs": [
        {
          "output_type": "execute_result",
          "data": {
            "text/plain": [
              "female     23084\n",
              "male       18329\n",
              "unknown      167\n",
              "Name: sex, dtype: int64"
            ]
          },
          "metadata": {
            "tags": []
          },
          "execution_count": 15
        }
      ]
    },
    {
      "cell_type": "markdown",
      "metadata": {
        "id": "5noZ0-8SAUDd",
        "colab_type": "text"
      },
      "source": [
        "## Smoking"
      ]
    },
    {
      "cell_type": "code",
      "metadata": {
        "id": "Dpd8UPYJ_f1n",
        "colab_type": "code",
        "colab": {
          "base_uri": "https://localhost:8080/",
          "height": 69
        },
        "outputId": "a0331338-f9c2-4f9a-9293-96cba6b9cb13"
      },
      "source": [
        "df['smoking'].value_counts()"
      ],
      "execution_count": 16,
      "outputs": [
        {
          "output_type": "execute_result",
          "data": {
            "text/plain": [
              "0.0    37910\n",
              "1.0     3400\n",
              "Name: smoking, dtype: int64"
            ]
          },
          "metadata": {
            "tags": []
          },
          "execution_count": 16
        }
      ]
    },
    {
      "cell_type": "code",
      "metadata": {
        "id": "q_ihN82iAaWB",
        "colab_type": "code",
        "colab": {
          "base_uri": "https://localhost:8080/",
          "height": 35
        },
        "outputId": "61ed3015-1473-430d-9205-31b53d0eba71"
      },
      "source": [
        "df['smoking'].isna().sum()"
      ],
      "execution_count": 17,
      "outputs": [
        {
          "output_type": "execute_result",
          "data": {
            "text/plain": [
              "270"
            ]
          },
          "metadata": {
            "tags": []
          },
          "execution_count": 17
        }
      ]
    },
    {
      "cell_type": "markdown",
      "metadata": {
        "id": "pA77bXr6MwtF",
        "colab_type": "text"
      },
      "source": [
        "Checking smoking and gender.\n",
        "\n",
        "We believe that male and female have different smoking habbits."
      ]
    },
    {
      "cell_type": "code",
      "metadata": {
        "id": "xnpUbcKUKEW9",
        "colab_type": "code",
        "colab": {
          "base_uri": "https://localhost:8080/",
          "height": 359
        },
        "outputId": "bd824301-be0d-4e59-fcd1-4d4491ca9c23"
      },
      "source": [
        "df.groupby(['sex'])['smoking'].value_counts(normalize=True).unstack().plot(kind='bar', stacked=True)\n",
        "plt.title(\"smoking cross gender\")\n",
        "plt.ylabel(\"percentage\")"
      ],
      "execution_count": 18,
      "outputs": [
        {
          "output_type": "execute_result",
          "data": {
            "text/plain": [
              "Text(0, 0.5, 'percentage')"
            ]
          },
          "metadata": {
            "tags": []
          },
          "execution_count": 18
        },
        {
          "output_type": "display_data",
          "data": {
            "image/png": "[encoded data removed]",
            "text/plain": [
              "<Figure size 432x288 with 1 Axes>"
            ]
          },
          "metadata": {
            "tags": [],
            "needs_background": "light"
          }
        }
      ]
    },
    {
      "cell_type": "markdown",
      "metadata": {
        "id": "JX7cNQyjmXvQ",
        "colab_type": "text"
      },
      "source": [
        "It is also required to check the smoking variable against the age group since from previous knowledge we know that diferent age groups have different smoking habbits."
      ]
    },
    {
      "cell_type": "markdown",
      "metadata": {
        "id": "1vFXjg0BlYPu",
        "colab_type": "text"
      },
      "source": [
        "The simplest way in this case is to fill the missing values with 0, since most of the people do not smoke."
      ]
    },
    {
      "cell_type": "code",
      "metadata": {
        "id": "UwVxHckdlpQK",
        "colab_type": "code",
        "colab": {}
      },
      "source": [
        "df['smoking'] = df['smoking'].fillna(0)"
      ],
      "execution_count": 19,
      "outputs": []
    },
    {
      "cell_type": "markdown",
      "metadata": {
        "id": "dKyYkI3HGgyN",
        "colab_type": "text"
      },
      "source": [
        "## Background Diseases"
      ]
    },
    {
      "cell_type": "code",
      "metadata": {
        "id": "AEwMw6L2Gn6D",
        "colab_type": "code",
        "colab": {
          "base_uri": "https://localhost:8080/",
          "height": 69
        },
        "outputId": "27197b9c-5afa-4078-b9b4-97e5d4a742f9"
      },
      "source": [
        "df['background_diseases_binary'].value_counts()"
      ],
      "execution_count": 20,
      "outputs": [
        {
          "output_type": "execute_result",
          "data": {
            "text/plain": [
              "0    23501\n",
              "1    18079\n",
              "Name: background_diseases_binary, dtype: int64"
            ]
          },
          "metadata": {
            "tags": []
          },
          "execution_count": 20
        }
      ]
    },
    {
      "cell_type": "code",
      "metadata": {
        "id": "JJ774I5nGyfR",
        "colab_type": "code",
        "colab": {
          "base_uri": "https://localhost:8080/",
          "height": 35
        },
        "outputId": "7aab0fd9-83a6-4a1c-c4ed-022fd48ef044"
      },
      "source": [
        "df['background_diseases'].isna().sum()"
      ],
      "execution_count": 21,
      "outputs": [
        {
          "output_type": "execute_result",
          "data": {
            "text/plain": [
              "23531"
            ]
          },
          "metadata": {
            "tags": []
          },
          "execution_count": 21
        }
      ]
    },
    {
      "cell_type": "markdown",
      "metadata": {
        "id": "UANHGpzCKHy4",
        "colab_type": "text"
      },
      "source": [
        "We can see that those without background diseases and their binary variable 'background_diseases_binary' do not correspond to each other,\n",
        "we have to find out why.\n",
        "\n",
        "Let's check those without background diseases but with binary variable positive and those with background diseases but with binary variable negative:"
      ]
    },
    {
      "cell_type": "code",
      "metadata": {
        "id": "9O3FNEFVHT50",
        "colab_type": "code",
        "colab": {
          "base_uri": "https://localhost:8080/",
          "height": 274
        },
        "outputId": "70f308cb-4bf3-44f7-df82-0efd75c69a1f"
      },
      "source": [
        "print(\"No. of mistakes (has diseases but binary false): %d \\n\" \n",
        "      %len(df[(~df['background_diseases'].isna()) & (df['background_diseases_binary']==0)]))\n",
        "\n",
        "df[(~df['background_diseases'].isna()) & (df['background_diseases_binary']==0)].head()\n"
      ],
      "execution_count": 22,
      "outputs": [
        {
          "output_type": "stream",
          "text": [
            "No. of mistakes (has diseases but binary false): 113 \n",
            "\n"
          ],
          "name": "stdout"
        },
        {
          "output_type": "execute_result",
          "data": {
            "text/html": [
              "<div>\n",
              "<style scoped>\n",
              "    .dataframe tbody tr th:only-of-type {\n",
              "        vertical-align: middle;\n",
              "    }\n",
              "\n",
              "    .dataframe tbody tr th {\n",
              "        vertical-align: top;\n",
              "    }\n",
              "\n",
              "    .dataframe thead th {\n",
              "        text-align: right;\n",
              "    }\n",
              "</style>\n",
              "<table border=\"1\" class=\"dataframe\">\n",
              "  <thead>\n",
              "    <tr style=\"text-align: right;\">\n",
              "      <th></th>\n",
              "      <th>age</th>\n",
              "      <th>background_diseases</th>\n",
              "      <th>background_diseases_binary</th>\n",
              "      <th>confirmed_date</th>\n",
              "      <th>date_onset_symptoms</th>\n",
              "      <th>deceased_date</th>\n",
              "      <th>severity_illness</th>\n",
              "      <th>sex</th>\n",
              "      <th>smoking</th>\n",
              "      <th>treatment</th>\n",
              "      <th>age_group</th>\n",
              "    </tr>\n",
              "  </thead>\n",
              "  <tbody>\n",
              "    <tr>\n",
              "      <th>10</th>\n",
              "      <td>43.0</td>\n",
              "      <td>hypertension,</td>\n",
              "      <td>0</td>\n",
              "      <td>2020-05-11</td>\n",
              "      <td>2020-05-08</td>\n",
              "      <td>NaT</td>\n",
              "      <td>NaN</td>\n",
              "      <td>female</td>\n",
              "      <td>0.0</td>\n",
              "      <td>clinic</td>\n",
              "      <td>40-49</td>\n",
              "    </tr>\n",
              "    <tr>\n",
              "      <th>121</th>\n",
              "      <td>34.0</td>\n",
              "      <td>asthma,</td>\n",
              "      <td>0</td>\n",
              "      <td>2020-04-30</td>\n",
              "      <td>2020-04-27</td>\n",
              "      <td>NaT</td>\n",
              "      <td>NaN</td>\n",
              "      <td>male</td>\n",
              "      <td>0.0</td>\n",
              "      <td>clinic</td>\n",
              "      <td>30-39</td>\n",
              "    </tr>\n",
              "    <tr>\n",
              "      <th>197</th>\n",
              "      <td>65.0</td>\n",
              "      <td>obesity,</td>\n",
              "      <td>0</td>\n",
              "      <td>2020-04-13</td>\n",
              "      <td>2020-04-13</td>\n",
              "      <td>2020-04-20</td>\n",
              "      <td>critical</td>\n",
              "      <td>male</td>\n",
              "      <td>0.0</td>\n",
              "      <td>hospitalized</td>\n",
              "      <td>60-69</td>\n",
              "    </tr>\n",
              "    <tr>\n",
              "      <th>281</th>\n",
              "      <td>64.0</td>\n",
              "      <td>diabetes, hypertension,</td>\n",
              "      <td>0</td>\n",
              "      <td>2020-04-29</td>\n",
              "      <td>2020-04-15</td>\n",
              "      <td>2020-04-30</td>\n",
              "      <td>deceased</td>\n",
              "      <td>female</td>\n",
              "      <td>0.0</td>\n",
              "      <td>hospitalized</td>\n",
              "      <td>60-69</td>\n",
              "    </tr>\n",
              "    <tr>\n",
              "      <th>1337</th>\n",
              "      <td>59.0</td>\n",
              "      <td>diabetes, hypertension, obesity,</td>\n",
              "      <td>0</td>\n",
              "      <td>2020-05-02</td>\n",
              "      <td>2020-04-29</td>\n",
              "      <td>NaT</td>\n",
              "      <td>NaN</td>\n",
              "      <td>male</td>\n",
              "      <td>0.0</td>\n",
              "      <td>clinic</td>\n",
              "      <td>50-59</td>\n",
              "    </tr>\n",
              "  </tbody>\n",
              "</table>\n",
              "</div>"
            ],
            "text/plain": [
              "       age                background_diseases  ...     treatment age_group\n",
              "10    43.0                      hypertension,  ...        clinic     40-49\n",
              "121   34.0                            asthma,  ...        clinic     30-39\n",
              "197   65.0                           obesity,  ...  hospitalized     60-69\n",
              "281   64.0            diabetes, hypertension,  ...  hospitalized     60-69\n",
              "1337  59.0   diabetes, hypertension, obesity,  ...        clinic     50-59\n",
              "\n",
              "[5 rows x 11 columns]"
            ]
          },
          "metadata": {
            "tags": []
          },
          "execution_count": 22
        }
      ]
    },
    {
      "cell_type": "code",
      "metadata": {
        "id": "L0n6KjimHgCQ",
        "colab_type": "code",
        "colab": {
          "base_uri": "https://localhost:8080/",
          "height": 257
        },
        "outputId": "36991010-4105-4780-d4c8-79e69949d4dc"
      },
      "source": [
        "print(\"No. of mistakes (no diseases but binary true): %d \\n\" \n",
        "      %len(df[(df['background_diseases'].isna()) & (df['background_diseases_binary']==1)]))\n",
        "\n",
        "df[(df['background_diseases'].isna()) & (df['background_diseases_binary']==1)].head()\n"
      ],
      "execution_count": 23,
      "outputs": [
        {
          "output_type": "stream",
          "text": [
            "No. of mistakes (no diseases but binary true): 143 \n",
            "\n"
          ],
          "name": "stdout"
        },
        {
          "output_type": "execute_result",
          "data": {
            "text/html": [
              "<div>\n",
              "<style scoped>\n",
              "    .dataframe tbody tr th:only-of-type {\n",
              "        vertical-align: middle;\n",
              "    }\n",
              "\n",
              "    .dataframe tbody tr th {\n",
              "        vertical-align: top;\n",
              "    }\n",
              "\n",
              "    .dataframe thead th {\n",
              "        text-align: right;\n",
              "    }\n",
              "</style>\n",
              "<table border=\"1\" class=\"dataframe\">\n",
              "  <thead>\n",
              "    <tr style=\"text-align: right;\">\n",
              "      <th></th>\n",
              "      <th>age</th>\n",
              "      <th>background_diseases</th>\n",
              "      <th>background_diseases_binary</th>\n",
              "      <th>confirmed_date</th>\n",
              "      <th>date_onset_symptoms</th>\n",
              "      <th>deceased_date</th>\n",
              "      <th>severity_illness</th>\n",
              "      <th>sex</th>\n",
              "      <th>smoking</th>\n",
              "      <th>treatment</th>\n",
              "      <th>age_group</th>\n",
              "    </tr>\n",
              "  </thead>\n",
              "  <tbody>\n",
              "    <tr>\n",
              "      <th>345</th>\n",
              "      <td>55.0</td>\n",
              "      <td>NaN</td>\n",
              "      <td>1</td>\n",
              "      <td>2020-04-22</td>\n",
              "      <td>2020-04-16</td>\n",
              "      <td>NaT</td>\n",
              "      <td>NaN</td>\n",
              "      <td>female</td>\n",
              "      <td>0.0</td>\n",
              "      <td>hospitalized</td>\n",
              "      <td>50-59</td>\n",
              "    </tr>\n",
              "    <tr>\n",
              "      <th>530</th>\n",
              "      <td>27.0</td>\n",
              "      <td>NaN</td>\n",
              "      <td>1</td>\n",
              "      <td>2020-06-01</td>\n",
              "      <td>2020-05-31</td>\n",
              "      <td>NaT</td>\n",
              "      <td>NaN</td>\n",
              "      <td>male</td>\n",
              "      <td>0.0</td>\n",
              "      <td>clinic</td>\n",
              "      <td>20-29</td>\n",
              "    </tr>\n",
              "    <tr>\n",
              "      <th>543</th>\n",
              "      <td>42.0</td>\n",
              "      <td>NaN</td>\n",
              "      <td>1</td>\n",
              "      <td>2020-04-13</td>\n",
              "      <td>2020-04-11</td>\n",
              "      <td>NaT</td>\n",
              "      <td>NaN</td>\n",
              "      <td>male</td>\n",
              "      <td>0.0</td>\n",
              "      <td>clinic</td>\n",
              "      <td>40-49</td>\n",
              "    </tr>\n",
              "    <tr>\n",
              "      <th>948</th>\n",
              "      <td>37.0</td>\n",
              "      <td>NaN</td>\n",
              "      <td>1</td>\n",
              "      <td>2020-04-13</td>\n",
              "      <td>2020-04-03</td>\n",
              "      <td>NaT</td>\n",
              "      <td>NaN</td>\n",
              "      <td>male</td>\n",
              "      <td>0.0</td>\n",
              "      <td>clinic</td>\n",
              "      <td>30-39</td>\n",
              "    </tr>\n",
              "    <tr>\n",
              "      <th>1013</th>\n",
              "      <td>24.0</td>\n",
              "      <td>NaN</td>\n",
              "      <td>1</td>\n",
              "      <td>2020-05-04</td>\n",
              "      <td>2020-04-17</td>\n",
              "      <td>NaT</td>\n",
              "      <td>NaN</td>\n",
              "      <td>male</td>\n",
              "      <td>0.0</td>\n",
              "      <td>clinic</td>\n",
              "      <td>20-29</td>\n",
              "    </tr>\n",
              "  </tbody>\n",
              "</table>\n",
              "</div>"
            ],
            "text/plain": [
              "       age background_diseases  ...     treatment age_group\n",
              "345   55.0                 NaN  ...  hospitalized     50-59\n",
              "530   27.0                 NaN  ...        clinic     20-29\n",
              "543   42.0                 NaN  ...        clinic     40-49\n",
              "948   37.0                 NaN  ...        clinic     30-39\n",
              "1013  24.0                 NaN  ...        clinic     20-29\n",
              "\n",
              "[5 rows x 11 columns]"
            ]
          },
          "metadata": {
            "tags": []
          },
          "execution_count": 23
        }
      ]
    },
    {
      "cell_type": "markdown",
      "metadata": {
        "id": "wKwUJ_qnLBMG",
        "colab_type": "text"
      },
      "source": [
        "We see that the binary variable is incorrect.\n",
        "\n",
        "It is given that the most reliable feature is 'background_diseases', so we will recreate 'background_diseases_binary' by ourselves."
      ]
    },
    {
      "cell_type": "code",
      "metadata": {
        "id": "SWOUf7DJIDqZ",
        "colab_type": "code",
        "colab": {}
      },
      "source": [
        "df['background_diseases_binary'] = 1- df['background_diseases'].isna()"
      ],
      "execution_count": 24,
      "outputs": []
    },
    {
      "cell_type": "markdown",
      "metadata": {
        "id": "8wOZ-98dHUe9",
        "colab_type": "text"
      },
      "source": [
        "Now, lets see all the possible background diseases."
      ]
    },
    {
      "cell_type": "code",
      "metadata": {
        "id": "6yPcqot2HPod",
        "colab_type": "code",
        "colab": {
          "base_uri": "https://localhost:8080/",
          "height": 225
        },
        "outputId": "4cae3342-b869-4bf6-9564-966e33fc5626"
      },
      "source": [
        "df['background_diseases'].value_counts()"
      ],
      "execution_count": 25,
      "outputs": [
        {
          "output_type": "execute_result",
          "data": {
            "text/plain": [
              " obesity,                                                                           4458\n",
              " hypertension,                                                                      2731\n",
              " diabetes,                                                                          2340\n",
              " diabetes, hypertension,                                                            1857\n",
              " hypertension, obesity,                                                             1241\n",
              "                                                                                    ... \n",
              " asthma, immunosuppression, hypertension, obesity, kidney failure,                     1\n",
              " immunosuppression, hypertension, cardiovascular, kidney failure,                      1\n",
              " chronic obstructive pulmonary, asthma, kidney failure,                                1\n",
              " chronic obstructive pulmonary, immunosuppression, kidney failure,                     1\n",
              " chronic obstructive pulmonary, immunosuppression, hypertension, kidney failure,       1\n",
              "Name: background_diseases, Length: 162, dtype: int64"
            ]
          },
          "metadata": {
            "tags": []
          },
          "execution_count": 25
        }
      ]
    },
    {
      "cell_type": "code",
      "metadata": {
        "id": "dFdYigQrH93u",
        "colab_type": "code",
        "colab": {
          "base_uri": "https://localhost:8080/",
          "height": 69
        },
        "outputId": "37c783bc-7b92-4783-ea81-a14014219fde"
      },
      "source": [
        "np.unique(\"\".join(df['background_diseases'].dropna().to_list()).split(\",\"))"
      ],
      "execution_count": 26,
      "outputs": [
        {
          "output_type": "execute_result",
          "data": {
            "text/plain": [
              "array(['', ' asthma', ' cardiovascular', ' chronic obstructive pulmonary',\n",
              "       ' diabetes', ' hypertension', ' immunosuppression',\n",
              "       ' kidney failure', ' obesity'], dtype='<U30')"
            ]
          },
          "metadata": {
            "tags": []
          },
          "execution_count": 26
        }
      ]
    },
    {
      "cell_type": "markdown",
      "metadata": {
        "id": "5VplAD_bKpnk",
        "colab_type": "text"
      },
      "source": [
        "OK.\n",
        "Now, we will find for each patient his background diseases, and merge it with the origin dataframe."
      ]
    },
    {
      "cell_type": "code",
      "metadata": {
        "id": "hh1jG3NrIVh6",
        "colab_type": "code",
        "colab": {}
      },
      "source": [
        "diseases_df = df['background_diseases'].str.replace(' ','').str.get_dummies(sep=',')"
      ],
      "execution_count": 27,
      "outputs": []
    },
    {
      "cell_type": "code",
      "metadata": {
        "id": "cOnhbNBDKnXp",
        "colab_type": "code",
        "colab": {}
      },
      "source": [
        "df = pd.merge(df, diseases_df, left_index=True, right_index=True)\n",
        "df = df.drop(\"background_diseases\", axis=1)"
      ],
      "execution_count": 28,
      "outputs": []
    },
    {
      "cell_type": "markdown",
      "metadata": {
        "id": "qryKsdTcApVP",
        "colab_type": "text"
      },
      "source": [
        "Checking the connection between all the backgrounf sideases.\n",
        "\n",
        "We will check the correlation between them."
      ]
    },
    {
      "cell_type": "code",
      "metadata": {
        "id": "XkjXFaeyuLRR",
        "colab_type": "code",
        "colab": {}
      },
      "source": [
        "background_diseases = ['asthma', 'cardiovascular','chronicobstructivepulmonary', 'diabetes',\n",
        "                       'hypertension', 'immunosuppression', 'kidneyfailure', 'obesity', 'age']"
      ],
      "execution_count": 60,
      "outputs": []
    },
    {
      "cell_type": "code",
      "metadata": {
        "id": "TBmT2YVGAm47",
        "colab_type": "code",
        "colab": {
          "base_uri": "https://localhost:8080/",
          "height": 453
        },
        "outputId": "7ca02ec2-4748-42ae-f38b-c77617197a11"
      },
      "source": [
        "plt.figure()\n",
        "\n",
        "background_diseases_corr = sns.heatmap(df[background_diseases].corr(), annot=True)\n",
        "background_diseases_corr.set_title(\"Background Diseases Correlation\")"
      ],
      "execution_count": 61,
      "outputs": [
        {
          "output_type": "execute_result",
          "data": {
            "text/plain": [
              "Text(0.5, 1.0, 'Background Diseases Correlation')"
            ]
          },
          "metadata": {
            "tags": []
          },
          "execution_count": 61
        },
        {
          "output_type": "display_data",
          "data": {
            "image/png": "[encoded data removed]",
            "text/plain": [
              "<Figure size 432x288 with 2 Axes>"
            ]
          },
          "metadata": {
            "tags": [],
            "needs_background": "light"
          }
        }
      ]
    },
    {
      "cell_type": "markdown",
      "metadata": {
        "id": "_rFkg93UfrYQ",
        "colab_type": "text"
      },
      "source": [
        "## Dates"
      ]
    },
    {
      "cell_type": "code",
      "metadata": {
        "id": "UlV6t4r6eSAd",
        "colab_type": "code",
        "colab": {
          "base_uri": "https://localhost:8080/",
          "height": 233
        },
        "outputId": "42fed283-972c-4b13-a5fc-b440608046dc"
      },
      "source": [
        "df[[\"confirmed_date\", \"date_onset_symptoms\", \"deceased_date\"]].describe()"
      ],
      "execution_count": 30,
      "outputs": [
        {
          "output_type": "execute_result",
          "data": {
            "text/html": [
              "<div>\n",
              "<style scoped>\n",
              "    .dataframe tbody tr th:only-of-type {\n",
              "        vertical-align: middle;\n",
              "    }\n",
              "\n",
              "    .dataframe tbody tr th {\n",
              "        vertical-align: top;\n",
              "    }\n",
              "\n",
              "    .dataframe thead th {\n",
              "        text-align: right;\n",
              "    }\n",
              "</style>\n",
              "<table border=\"1\" class=\"dataframe\">\n",
              "  <thead>\n",
              "    <tr style=\"text-align: right;\">\n",
              "      <th></th>\n",
              "      <th>confirmed_date</th>\n",
              "      <th>date_onset_symptoms</th>\n",
              "      <th>deceased_date</th>\n",
              "    </tr>\n",
              "  </thead>\n",
              "  <tbody>\n",
              "    <tr>\n",
              "      <th>count</th>\n",
              "      <td>41580</td>\n",
              "      <td>41440</td>\n",
              "      <td>4948</td>\n",
              "    </tr>\n",
              "    <tr>\n",
              "      <th>unique</th>\n",
              "      <td>139</td>\n",
              "      <td>144</td>\n",
              "      <td>82</td>\n",
              "    </tr>\n",
              "    <tr>\n",
              "      <th>top</th>\n",
              "      <td>2020-06-01 00:00:00</td>\n",
              "      <td>2020-05-25 00:00:00</td>\n",
              "      <td>2020-05-17 00:00:00</td>\n",
              "    </tr>\n",
              "    <tr>\n",
              "      <th>freq</th>\n",
              "      <td>1393</td>\n",
              "      <td>1299</td>\n",
              "      <td>130</td>\n",
              "    </tr>\n",
              "    <tr>\n",
              "      <th>first</th>\n",
              "      <td>2019-03-29 00:00:00</td>\n",
              "      <td>2019-04-08 00:00:00</td>\n",
              "      <td>2020-03-22 00:00:00</td>\n",
              "    </tr>\n",
              "    <tr>\n",
              "      <th>last</th>\n",
              "      <td>2020-06-12 00:00:00</td>\n",
              "      <td>2020-06-12 00:00:00</td>\n",
              "      <td>2020-06-12 00:00:00</td>\n",
              "    </tr>\n",
              "  </tbody>\n",
              "</table>\n",
              "</div>"
            ],
            "text/plain": [
              "             confirmed_date  date_onset_symptoms        deceased_date\n",
              "count                 41580                41440                 4948\n",
              "unique                  139                  144                   82\n",
              "top     2020-06-01 00:00:00  2020-05-25 00:00:00  2020-05-17 00:00:00\n",
              "freq                   1393                 1299                  130\n",
              "first   2019-03-29 00:00:00  2019-04-08 00:00:00  2020-03-22 00:00:00\n",
              "last    2020-06-12 00:00:00  2020-06-12 00:00:00  2020-06-12 00:00:00"
            ]
          },
          "metadata": {
            "tags": []
          },
          "execution_count": 30
        }
      ]
    },
    {
      "cell_type": "markdown",
      "metadata": {
        "id": "AD2SdSMYfyWp",
        "colab_type": "text"
      },
      "source": [
        "There are impossible confirmed dates in 2019.\n",
        "\n",
        "They should be in 2020."
      ]
    },
    {
      "cell_type": "code",
      "metadata": {
        "id": "phx7sb5YmSz_",
        "colab_type": "code",
        "colab": {
          "base_uri": "https://localhost:8080/",
          "height": 35
        },
        "outputId": "00168897-ad47-444e-e956-6ddff7be1862"
      },
      "source": [
        "print(\"No. of confirmed patients before 1.1.20: %d\" %sum(df[\"date_onset_symptoms\"] < \"2020-01-01\"))"
      ],
      "execution_count": 31,
      "outputs": [
        {
          "output_type": "stream",
          "text": [
            "No. of confirmed patients before 1.1.20: 53\n"
          ],
          "name": "stdout"
        }
      ]
    },
    {
      "cell_type": "code",
      "metadata": {
        "id": "BFvvTT57fr97",
        "colab_type": "code",
        "colab": {
          "base_uri": "https://localhost:8080/",
          "height": 35
        },
        "outputId": "5b47e57b-4cbf-45bc-93ea-8557f2a3fae8"
      },
      "source": [
        "print(\"No. of confirmed patients before 1.1.20: %d\" %sum(df[\"confirmed_date\"] < \"2020-01-01\"))"
      ],
      "execution_count": 32,
      "outputs": [
        {
          "output_type": "stream",
          "text": [
            "No. of confirmed patients before 1.1.20: 65\n"
          ],
          "name": "stdout"
        }
      ]
    },
    {
      "cell_type": "code",
      "metadata": {
        "id": "RLMmseevihaK",
        "colab_type": "code",
        "colab": {}
      },
      "source": [
        "df.loc[df[\"date_onset_symptoms\"] < \"2020-01-01\", \"date_onset_symptoms\"] = df[\"date_onset_symptoms\"] + pd.offsets.DateOffset(years=1)\n",
        "df.loc[df[\"confirmed_date\"] < \"2020-01-01\", \"confirmed_date\"] = df[\"confirmed_date\"] + pd.offsets.DateOffset(years=1)"
      ],
      "execution_count": 33,
      "outputs": []
    },
    {
      "cell_type": "code",
      "metadata": {
        "id": "Q2YFH_BDCe6k",
        "colab_type": "code",
        "colab": {
          "base_uri": "https://localhost:8080/",
          "height": 35
        },
        "outputId": "5495ea9d-dc65-499e-c13f-9a39479a45a8"
      },
      "source": [
        "print(\"No. of patients who confirmed before they had symptoms %d\" %sum(df[\"date_onset_symptoms\"] > df[\"confirmed_date\"]))"
      ],
      "execution_count": 34,
      "outputs": [
        {
          "output_type": "stream",
          "text": [
            "No. of patients who confirmed before they had symptoms 6\n"
          ],
          "name": "stdout"
        }
      ]
    },
    {
      "cell_type": "code",
      "metadata": {
        "id": "m_Yu5ug6m6iK",
        "colab_type": "code",
        "colab": {
          "base_uri": "https://localhost:8080/",
          "height": 35
        },
        "outputId": "5baa2b74-fbe3-42dd-8609-5dd2110729cc"
      },
      "source": [
        "print(\"No. of patients who died before they were confirmed: %d\" %sum(df[\"deceased_date\"] < df[\"confirmed_date\"]))"
      ],
      "execution_count": 35,
      "outputs": [
        {
          "output_type": "stream",
          "text": [
            "No. of patients who died before they were confirmed: 22\n"
          ],
          "name": "stdout"
        }
      ]
    },
    {
      "cell_type": "code",
      "metadata": {
        "id": "bUPmhWySors8",
        "colab_type": "code",
        "colab": {
          "base_uri": "https://localhost:8080/",
          "height": 35
        },
        "outputId": "9a070caa-8189-4c1f-98a5-017216c2bb28"
      },
      "source": [
        "print(\"No. of deaths according to the death date: %d\" %(len(df) - df['deceased_date'].isna().sum()))"
      ],
      "execution_count": 36,
      "outputs": [
        {
          "output_type": "stream",
          "text": [
            "No. of deaths according to the death date: 4948\n"
          ],
          "name": "stdout"
        }
      ]
    },
    {
      "cell_type": "code",
      "metadata": {
        "id": "M6CCfYeWqhYa",
        "colab_type": "code",
        "colab": {
          "base_uri": "https://localhost:8080/",
          "height": 69
        },
        "outputId": "2e7e51a9-e0a3-4975-b30b-cc46781e388e"
      },
      "source": [
        "df[~df['deceased_date'].isna()]['severity_illness'].value_counts()"
      ],
      "execution_count": 37,
      "outputs": [
        {
          "output_type": "execute_result",
          "data": {
            "text/plain": [
              "deceased    4242\n",
              "critical     657\n",
              "Name: severity_illness, dtype: int64"
            ]
          },
          "metadata": {
            "tags": []
          },
          "execution_count": 37
        }
      ]
    },
    {
      "cell_type": "code",
      "metadata": {
        "id": "pNAUj4zYq5bP",
        "colab_type": "code",
        "colab": {
          "base_uri": "https://localhost:8080/",
          "height": 35
        },
        "outputId": "ae261177-aa61-4c00-dff5-dc92609eedd6"
      },
      "source": [
        "df[~df['deceased_date'].isna()]['severity_illness'].isna().sum()"
      ],
      "execution_count": 38,
      "outputs": [
        {
          "output_type": "execute_result",
          "data": {
            "text/plain": [
              "49"
            ]
          },
          "metadata": {
            "tags": []
          },
          "execution_count": 38
        }
      ]
    },
    {
      "cell_type": "markdown",
      "metadata": {
        "id": "evJe2IlArVxN",
        "colab_type": "text"
      },
      "source": [
        "We see that not all the patients who have death date, are written as dead.\n",
        "\n",
        "According to the supervisor, we have to treat them as dead."
      ]
    },
    {
      "cell_type": "code",
      "metadata": {
        "id": "Dz7XTHp-r1b0",
        "colab_type": "code",
        "colab": {}
      },
      "source": [
        "df.loc[~df['deceased_date'].isna(), 'severity_illness'] = \"deceased\""
      ],
      "execution_count": 39,
      "outputs": []
    },
    {
      "cell_type": "markdown",
      "metadata": {
        "id": "GNgMQtFzeJHh",
        "colab_type": "text"
      },
      "source": [
        "## Severity illness"
      ]
    },
    {
      "cell_type": "code",
      "metadata": {
        "id": "14cgsIYHeLB2",
        "colab_type": "code",
        "colab": {
          "base_uri": "https://localhost:8080/",
          "height": 69
        },
        "outputId": "7a359de2-2739-4de8-ffda-968e5a7f45fe"
      },
      "source": [
        "df['severity_illness'].value_counts()"
      ],
      "execution_count": 40,
      "outputs": [
        {
          "output_type": "execute_result",
          "data": {
            "text/plain": [
              "deceased    4948\n",
              "critical     599\n",
              "Name: severity_illness, dtype: int64"
            ]
          },
          "metadata": {
            "tags": []
          },
          "execution_count": 40
        }
      ]
    },
    {
      "cell_type": "code",
      "metadata": {
        "id": "iCbcrjdneNwk",
        "colab_type": "code",
        "colab": {
          "base_uri": "https://localhost:8080/",
          "height": 35
        },
        "outputId": "59b35afd-ee48-412b-b227-82e784c475d3"
      },
      "source": [
        "df['severity_illness'].isna().sum()"
      ],
      "execution_count": 41,
      "outputs": [
        {
          "output_type": "execute_result",
          "data": {
            "text/plain": [
              "36033"
            ]
          },
          "metadata": {
            "tags": []
          },
          "execution_count": 41
        }
      ]
    },
    {
      "cell_type": "markdown",
      "metadata": {
        "id": "II_V85DRwv5b",
        "colab_type": "text"
      },
      "source": [
        "In order to make our life easier, we will fill the missing values as follows:"
      ]
    },
    {
      "cell_type": "code",
      "metadata": {
        "id": "arMTCJY_wCDI",
        "colab_type": "code",
        "colab": {}
      },
      "source": [
        "df['severity_illness'] = df['severity_illness'].fillna(\"slight\")"
      ],
      "execution_count": 42,
      "outputs": []
    },
    {
      "cell_type": "markdown",
      "metadata": {
        "id": "IU0gmucNw5dR",
        "colab_type": "text"
      },
      "source": [
        "At first, lets check the effect of background diseases on patients' illness."
      ]
    },
    {
      "cell_type": "code",
      "metadata": {
        "id": "joedFoX0wiTa",
        "colab_type": "code",
        "colab": {
          "base_uri": "https://localhost:8080/",
          "height": 171
        },
        "outputId": "194d8d0b-f870-4df9-a832-34d49529da08"
      },
      "source": [
        "df.pivot_table(values=\"background_diseases_binary\", index=\"severity_illness\")"
      ],
      "execution_count": 43,
      "outputs": [
        {
          "output_type": "execute_result",
          "data": {
            "text/html": [
              "<div>\n",
              "<style scoped>\n",
              "    .dataframe tbody tr th:only-of-type {\n",
              "        vertical-align: middle;\n",
              "    }\n",
              "\n",
              "    .dataframe tbody tr th {\n",
              "        vertical-align: top;\n",
              "    }\n",
              "\n",
              "    .dataframe thead th {\n",
              "        text-align: right;\n",
              "    }\n",
              "</style>\n",
              "<table border=\"1\" class=\"dataframe\">\n",
              "  <thead>\n",
              "    <tr style=\"text-align: right;\">\n",
              "      <th></th>\n",
              "      <th>background_diseases_binary</th>\n",
              "    </tr>\n",
              "    <tr>\n",
              "      <th>severity_illness</th>\n",
              "      <th></th>\n",
              "    </tr>\n",
              "  </thead>\n",
              "  <tbody>\n",
              "    <tr>\n",
              "      <th>critical</th>\n",
              "      <td>0.585977</td>\n",
              "    </tr>\n",
              "    <tr>\n",
              "      <th>deceased</th>\n",
              "      <td>0.702910</td>\n",
              "    </tr>\n",
              "    <tr>\n",
              "      <th>slight</th>\n",
              "      <td>0.394638</td>\n",
              "    </tr>\n",
              "  </tbody>\n",
              "</table>\n",
              "</div>"
            ],
            "text/plain": [
              "                  background_diseases_binary\n",
              "severity_illness                            \n",
              "critical                            0.585977\n",
              "deceased                            0.702910\n",
              "slight                              0.394638"
            ]
          },
          "metadata": {
            "tags": []
          },
          "execution_count": 43
        }
      ]
    },
    {
      "cell_type": "markdown",
      "metadata": {
        "id": "_UUvGn_wxh26",
        "colab_type": "text"
      },
      "source": [
        "We can see that on average most of those who died or got critically illed have background diseases.\n",
        "\n",
        "\n",
        "Now, we have to check if it depends on the disease."
      ]
    },
    {
      "cell_type": "code",
      "metadata": {
        "id": "VBlkAdupVxg1",
        "colab_type": "code",
        "colab": {
          "base_uri": "https://localhost:8080/",
          "height": 761
        },
        "outputId": "6de655b4-185a-4827-d10b-04ce34f06d87"
      },
      "source": [
        "fig, axes = plt.subplots(2,4, figsize=(10,10))\n",
        "\n",
        "for i, ax in zip(range(len(background_diseases)), axes.flat):\n",
        "   df.groupby([background_diseases[i]])['severity_illness'].value_counts(normalize=True).unstack().plot(kind='bar', stacked=True, ax=ax, legend=False)\n",
        "\n",
        "handles, labels = ax.get_legend_handles_labels()\n",
        "fig.legend(handles, labels, loc='best')\n",
        "fig.suptitle(\"severity of illness cross background diseases\", size=14)\n",
        "\n"
      ],
      "execution_count": 100,
      "outputs": [
        {
          "output_type": "stream",
          "text": [
            "/usr/local/lib/python3.6/dist-packages/ipykernel_launcher.py:7: MatplotlibDeprecationWarning: Automatic legend placement (loc='best') not implemented for figure legend. Falling back on 'upper right'. This will raise an exception in 3.3.\n",
            "  import sys\n"
          ],
          "name": "stderr"
        },
        {
          "output_type": "execute_result",
          "data": {
            "text/plain": [
              "Text(0.5, 0.98, 'severity of illness cross background diseases')"
            ]
          },
          "metadata": {
            "tags": []
          },
          "execution_count": 100
        },
        {
          "output_type": "display_data",
          "data": {
            "image/png": "[encoded data removed]",
            "text/plain": [
              "<Figure size 720x720 with 8 Axes>"
            ]
          },
          "metadata": {
            "tags": [],
            "needs_background": "light"
          }
        }
      ]
    },
    {
      "cell_type": "markdown",
      "metadata": {
        "id": "MEl2GuplNH1h",
        "colab_type": "text"
      },
      "source": [
        "Pay attention that in this point you should be reminded in the correlation matrix between the diseases we have seen before. \n",
        "\n",
        "why?\n"
      ]
    },
    {
      "cell_type": "code",
      "metadata": {
        "id": "H1vRoy8t2cX9",
        "colab_type": "code",
        "colab": {
          "base_uri": "https://localhost:8080/",
          "height": 319
        },
        "outputId": "e4c2eb69-ac74-4ac6-9253-addd980f91cb"
      },
      "source": [
        "sns.distplot(df[df['severity_illness']==\"critical\"]['age'], hist=False, label=\"critical\")\n",
        "sns.distplot(df[df['severity_illness']==\"slight\"]['age'], hist=False, label=\"slight\")\n",
        "sns.distplot(df[df['severity_illness']==\"deceased\"]['age'], hist=False, label=\"deceased\")\n",
        "plt.title(\"Distribution of severity of illnes by age\")"
      ],
      "execution_count": 44,
      "outputs": [
        {
          "output_type": "execute_result",
          "data": {
            "text/plain": [
              "Text(0.5, 1.0, 'Distribution of severity of illnes by age')"
            ]
          },
          "metadata": {
            "tags": []
          },
          "execution_count": 44
        },
        {
          "output_type": "display_data",
          "data": {
            "image/png": "[encoded data removed]",
            "text/plain": [
              "<Figure size 432x288 with 1 Axes>"
            ]
          },
          "metadata": {
            "tags": [],
            "needs_background": "light"
          }
        }
      ]
    },
    {
      "cell_type": "code",
      "metadata": {
        "id": "9W-s6tmzTpho",
        "colab_type": "code",
        "colab": {
          "base_uri": "https://localhost:8080/",
          "height": 445
        },
        "outputId": "6b673c3f-ff48-4a8c-d062-e88e449e99f2"
      },
      "source": [
        "sex_cross_severity = df.groupby(['sex'])['severity_illness'].value_counts(normalize=True).unstack()\n",
        "sex_cross_severity.plot(kind='bar', stacked=True)\n",
        "print(sex_cross_severity)\n",
        "plt.title(\"severity of illness cross gender\")\n",
        "plt.ylabel(\"percentage\")"
      ],
      "execution_count": 51,
      "outputs": [
        {
          "output_type": "stream",
          "text": [
            "severity_illness  critical  deceased    slight\n",
            "sex                                           \n",
            "female            0.017155  0.142523  0.840322\n",
            "male              0.010966  0.089858  0.899176\n",
            "unknown           0.011976  0.065868  0.922156\n"
          ],
          "name": "stdout"
        },
        {
          "output_type": "execute_result",
          "data": {
            "text/plain": [
              "Text(0, 0.5, 'percentage')"
            ]
          },
          "metadata": {
            "tags": []
          },
          "execution_count": 51
        },
        {
          "output_type": "display_data",
          "data": {
            "image/png": "[encoded data removed]",
            "text/plain": [
              "<Figure size 432x288 with 1 Axes>"
            ]
          },
          "metadata": {
            "tags": [],
            "needs_background": "light"
          }
        }
      ]
    },
    {
      "cell_type": "code",
      "metadata": {
        "id": "g6D8DDw0UixA",
        "colab_type": "code",
        "colab": {
          "base_uri": "https://localhost:8080/",
          "height": 395
        },
        "outputId": "a47608b9-6091-403b-c134-93b519f956c8"
      },
      "source": [
        "smoking_cross_severity = df.groupby(['smoking'])['severity_illness'].value_counts(normalize=True).unstack()\n",
        "smoking_cross_severity.plot(kind='bar', stacked=True)\n",
        "print(smoking_cross_severity)\n",
        "plt.title(\"severity of illness cross smoking\")\n",
        "plt.ylabel(\"percentage\")"
      ],
      "execution_count": 50,
      "outputs": [
        {
          "output_type": "stream",
          "text": [
            "severity_illness  critical  deceased    slight\n",
            "smoking                                       \n",
            "0.0               0.014432  0.117679  0.867889\n",
            "1.0               0.014118  0.133824  0.852059\n"
          ],
          "name": "stdout"
        },
        {
          "output_type": "execute_result",
          "data": {
            "text/plain": [
              "Text(0, 0.5, 'percentage')"
            ]
          },
          "metadata": {
            "tags": []
          },
          "execution_count": 50
        },
        {
          "output_type": "display_data",
          "data": {
            "image/png": "[encoded data removed]",
            "text/plain": [
              "<Figure size 432x288 with 1 Axes>"
            ]
          },
          "metadata": {
            "tags": [],
            "needs_background": "light"
          }
        }
      ]
    }
  ]
}